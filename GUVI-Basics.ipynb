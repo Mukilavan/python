{
 "cells": [
  {
   "cell_type": "code",
   "execution_count": 1,
   "metadata": {},
   "outputs": [],
   "source": [
    "l,r = map(int,input().split())\n",
    "for i in range(l,r):\n",
    "    for i1 in range(2,i):\n",
    "        if(i % i1 == 0):\n",
    "            break\n",
    "        else:\n",
    "            print(i)\n",
    "            "
   ]
  },
  {
   "cell_type": "code",
   "execution_count": 2,
   "metadata": {},
   "outputs": [
    {
     "name": "stdout",
     "output_type": "stream",
     "text": [
      "yes\n"
     ]
    }
   ],
   "source": [
    "num = int(input())\n",
    "sum = 0\n",
    "while(num != 0):\n",
    "    sum = sum + int(num % 10)\n",
    "    num = int(num / 10)\n",
    "num1 = sum\n",
    "if(num1 % 3 == 0):\n",
    "    print(\"yes\")\n",
    "else:\n",
    "    print(\"not\")"
   ]
  },
  {
   "cell_type": "code",
   "execution_count": 7,
   "metadata": {},
   "outputs": [
    {
     "name": "stdout",
     "output_type": "stream",
     "text": [
      "1 \n",
      "1\n"
     ]
    }
   ],
   "source": [
    "n = int(input())\n",
    "lst = list(map(int,input().split()))[:n]\n",
    "e = 1\n",
    "ne = 0\n",
    "for i in range(n):\n",
    "    if(lst[i] % 22 == 0):\n",
    "        print(e)"
   ]
  },
  {
   "cell_type": "code",
   "execution_count": 6,
   "metadata": {},
   "outputs": [
    {
     "name": "stdout",
     "output_type": "stream",
     "text": [
      "the\n",
      "he\n"
     ]
    }
   ],
   "source": [
    "n = input()\n",
    "n = n[:1:]\n",
    "print(n)"
   ]
  },
  {
   "cell_type": "code",
   "execution_count": 4,
   "metadata": {},
   "outputs": [
    {
     "name": "stdout",
     "output_type": "stream",
     "text": [
      "the\n",
      "Eht\n"
     ]
    }
   ],
   "source": [
    "s = input()\n",
    "s = s[::-1]\n",
    "print(s.capitalize())"
   ]
  },
  {
   "cell_type": "code",
   "execution_count": 6,
   "metadata": {},
   "outputs": [
    {
     "name": "stdout",
     "output_type": "stream",
     "text": [
      "97\n"
     ]
    }
   ],
   "source": [
    "n = \"a\"\n",
    "print(ord(n))"
   ]
  },
  {
   "cell_type": "code",
   "execution_count": 4,
   "metadata": {},
   "outputs": [
    {
     "name": "stdout",
     "output_type": "stream",
     "text": [
      "2\n",
      "-1 2\n",
      "-1\n"
     ]
    }
   ],
   "source": [
    "n = int(input())\n",
    "arr = list(map(int, input().split()))\n",
    "summ = 0\n",
    "for i in range(len(arr)):\n",
    "    if arr[i] < 0:\n",
    "        summ += arr[i]\n",
    "print(summ)"
   ]
  },
  {
   "cell_type": "code",
   "execution_count": 14,
   "metadata": {},
   "outputs": [
    {
     "name": "stdout",
     "output_type": "stream",
     "text": [
      "7\n",
      "15 15 15 15 15 15 15\n",
      "0\n"
     ]
    }
   ],
   "source": [
    "n = int(input())\n",
    "arr = list(map(int, input().split()))\n",
    "summ = sum(arr)\n",
    "if summ % 2 == 0 and summ % 3 == 0 and summ % 5 == 0:\n",
    "    print(\"1\")\n",
    "else:\n",
    "    print(\"0\")"
   ]
  },
  {
   "cell_type": "code",
   "execution_count": 31,
   "metadata": {},
   "outputs": [
    {
     "name": "stdout",
     "output_type": "stream",
     "text": [
      "3\n",
      "1 \n",
      "1 1 1 \n",
      "1 1 1 1 1 \n"
     ]
    }
   ],
   "source": [
    "stop = 2\n",
    "rows = int(input()) \n",
    "for i in range(rows):\n",
    "    for column in range(1, stop):\n",
    "        print(\"1\", end=' ')\n",
    "    print(\"\")\n",
    "    stop += 2"
   ]
  },
  {
   "cell_type": "code",
   "execution_count": null,
   "metadata": {},
   "outputs": [],
   "source": []
  }
 ],
 "metadata": {
  "kernelspec": {
   "display_name": "Python 3",
   "language": "python",
   "name": "python3"
  },
  "language_info": {
   "codemirror_mode": {
    "name": "ipython",
    "version": 3
   },
   "file_extension": ".py",
   "mimetype": "text/x-python",
   "name": "python",
   "nbconvert_exporter": "python",
   "pygments_lexer": "ipython3",
   "version": "3.12.0"
  }
 },
 "nbformat": 4,
 "nbformat_minor": 2
}
